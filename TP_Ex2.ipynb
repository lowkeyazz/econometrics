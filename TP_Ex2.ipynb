{
 "cells": [
  {
   "cell_type": "code",
   "execution_count": null,
   "metadata": {},
   "outputs": [],
   "source": [
    "import scipy\n",
    "import numpy as np\n",
    "import math"
   ]
  },
  {
   "cell_type": "code",
   "execution_count": null,
   "metadata": {},
   "outputs": [],
   "source": [
    "n1, xbar_1, s2_1 = 10, 4, 6"
   ]
  },
  {
   "cell_type": "code",
   "execution_count": null,
   "metadata": {},
   "outputs": [],
   "source": [
    "n2, xbar_2, s2_2 = 15, 7, 20"
   ]
  },
  {
   "cell_type": "code",
   "execution_count": null,
   "metadata": {},
   "outputs": [],
   "source": [
    "s2bar_1 = n1/(n1-1) * s2_1"
   ]
  },
  {
   "cell_type": "code",
   "execution_count": null,
   "metadata": {},
   "outputs": [],
   "source": [
    "s2bar_2 = n2/(n2-1) * s2_2"
   ]
  },
  {
   "cell_type": "code",
   "execution_count": null,
   "metadata": {},
   "outputs": [
    {
     "name": "stdout",
     "output_type": "stream",
     "text": [
      "0.311\n"
     ]
    }
   ],
   "source": [
    "f = s2bar_1/s2bar_2\n",
    "print(\"{:.3f}\".format(f))"
   ]
  },
  {
   "cell_type": "code",
   "execution_count": null,
   "metadata": {},
   "outputs": [
    {
     "name": "stdout",
     "output_type": "stream",
     "text": [
      "0.2632997660331528\n"
     ]
    }
   ],
   "source": [
    "f1 = scipy.stats.f.ppf(0.025,9,14)\n",
    "print(f1)"
   ]
  },
  {
   "cell_type": "code",
   "execution_count": null,
   "metadata": {},
   "outputs": [
    {
     "name": "stdout",
     "output_type": "stream",
     "text": [
      "3.2093003408966854\n"
     ]
    }
   ],
   "source": [
    "f2 = scipy.stats.f.ppf(0.975,9,14)\n",
    "print(f2)"
   ]
  },
  {
   "cell_type": "code",
   "execution_count": null,
   "metadata": {},
   "outputs": [
    {
     "name": "stdout",
     "output_type": "stream",
     "text": [
      "We can't reject the hypothesis\n"
     ]
    }
   ],
   "source": [
    "if f1 <= f <= f2:\n",
    "    print(\"We can't reject the hypothesis\")\n",
    "else:\n",
    "    print(\"We reject the hypothesis\")"
   ]
  },
  {
   "cell_type": "markdown",
   "metadata": {},
   "source": [
    "Q2: Test sigma2 = 2 * sigma1 = sigma"
   ]
  },
  {
   "cell_type": "code",
   "execution_count": null,
   "metadata": {},
   "outputs": [
    {
     "name": "stdout",
     "output_type": "stream",
     "text": [
      "1.244\n"
     ]
    }
   ],
   "source": [
    "fq2 = 4*s2bar_1/s2bar_2\n",
    "print(\"{:.3f}\".format(fq2))"
   ]
  },
  {
   "cell_type": "code",
   "execution_count": null,
   "metadata": {},
   "outputs": [
    {
     "name": "stdout",
     "output_type": "stream",
     "text": [
      "We can't reject the hypothesis\n"
     ]
    }
   ],
   "source": [
    "if f1 <= fq2 <= f2:\n",
    "    print(\"We can't reject the hypothesis\")\n",
    "else:\n",
    "    print(\"We reject the hypothesis\")"
   ]
  },
  {
   "cell_type": "markdown",
   "metadata": {},
   "source": [
    "Q3: Estimate sigma2"
   ]
  },
  {
   "cell_type": "code",
   "execution_count": null,
   "metadata": {},
   "outputs": [
    {
     "data": {
      "text/plain": [
       "5.869565217391305"
      ]
     },
     "execution_count": 13,
     "metadata": {},
     "output_type": "execute_result"
    }
   ],
   "source": [
    "sigma2_1 = (n1*s2_1+(n2/4)*s2_2)/(n1+n2-2)\n",
    "sigma2_1"
   ]
  },
  {
   "cell_type": "code",
   "execution_count": null,
   "metadata": {},
   "outputs": [
    {
     "data": {
      "text/plain": [
       "11.68855192245244"
      ]
     },
     "execution_count": 14,
     "metadata": {},
     "output_type": "execute_result"
    }
   ],
   "source": [
    "chi2_1 = scipy.stats.chi2.isf(df=23, q=0.975)\n",
    "chi2_1"
   ]
  },
  {
   "cell_type": "code",
   "execution_count": null,
   "metadata": {},
   "outputs": [
    {
     "data": {
      "text/plain": [
       "38.07562725035582"
      ]
     },
     "execution_count": 15,
     "metadata": {},
     "output_type": "execute_result"
    }
   ],
   "source": [
    "chi2_2 = scipy.stats.chi2.isf(df=23, q=0.025)\n",
    "chi2_2"
   ]
  },
  {
   "cell_type": "code",
   "execution_count": null,
   "metadata": {},
   "outputs": [
    {
     "name": "stdout",
     "output_type": "stream",
     "text": [
      "Confidence interval is 3.546 < sigma2_1 < 11.550 \n"
     ]
    }
   ],
   "source": [
    "print(\"Confidence interval is {:.3f} < sigma2_1 < {:.3f} \".format(135/chi2_2,135/chi2_1))"
   ]
  },
  {
   "cell_type": "markdown",
   "metadata": {},
   "source": [
    "Q4:"
   ]
  },
  {
   "cell_type": "code",
   "execution_count": null,
   "metadata": {},
   "outputs": [],
   "source": [
    "sigma_1 = 2\n",
    "sigma_2 = 4"
   ]
  },
  {
   "cell_type": "code",
   "execution_count": null,
   "metadata": {},
   "outputs": [
    {
     "data": {
      "text/plain": [
       "2.700389499980359"
      ]
     },
     "execution_count": 18,
     "metadata": {},
     "output_type": "execute_result"
    }
   ],
   "source": [
    "chi2_1_9 = scipy.stats.chi2.isf(df=9, q=0.975)\n",
    "chi2_1_9"
   ]
  },
  {
   "cell_type": "code",
   "execution_count": null,
   "metadata": {},
   "outputs": [
    {
     "data": {
      "text/plain": [
       "19.022767798641638"
      ]
     },
     "execution_count": 19,
     "metadata": {},
     "output_type": "execute_result"
    }
   ],
   "source": [
    "chi2_2_9 = scipy.stats.chi2.isf(df=9, q=0.025)\n",
    "chi2_2_9"
   ]
  },
  {
   "cell_type": "code",
   "execution_count": null,
   "metadata": {},
   "outputs": [
    {
     "data": {
      "text/plain": [
       "5.628726103039734"
      ]
     },
     "execution_count": 20,
     "metadata": {},
     "output_type": "execute_result"
    }
   ],
   "source": [
    "chi2_1_14 = scipy.stats.chi2.isf(df=14, q=0.975)\n",
    "chi2_1_14"
   ]
  },
  {
   "cell_type": "code",
   "execution_count": null,
   "metadata": {},
   "outputs": [
    {
     "data": {
      "text/plain": [
       "26.11894804503737"
      ]
     },
     "execution_count": 21,
     "metadata": {},
     "output_type": "execute_result"
    }
   ],
   "source": [
    "chi2_2_14 = scipy.stats.chi2.isf(df=14, q=0.025)\n",
    "chi2_2_14"
   ]
  },
  {
   "cell_type": "code",
   "execution_count": null,
   "metadata": {},
   "outputs": [
    {
     "name": "stdout",
     "output_type": "stream",
     "text": [
      "Confidence interval is 1.080 < s2_1 < 7.609 \n"
     ]
    }
   ],
   "source": [
    "print(\"Confidence interval is {:.3f} < s2_1 < {:.3f} \".format(chi2_1_9*(sigma_1**2)/10,chi2_2_9*(sigma_1**2)/10))"
   ]
  },
  {
   "cell_type": "code",
   "execution_count": null,
   "metadata": {},
   "outputs": [
    {
     "name": "stdout",
     "output_type": "stream",
     "text": [
      "Confidence interval is 6.004 < s2_2 < 27.860 \n"
     ]
    }
   ],
   "source": [
    "print(\"Confidence interval is {:.3f} < s2_2 < {:.3f} \".format(chi2_1_14*(sigma_2**2)/15,chi2_2_14*(sigma_2**2)/15))"
   ]
  },
  {
   "cell_type": "markdown",
   "metadata": {},
   "source": [
    "Q5:"
   ]
  },
  {
   "cell_type": "code",
   "execution_count": null,
   "metadata": {},
   "outputs": [
    {
     "data": {
      "text/plain": [
       "2.666666666666667"
      ]
     },
     "execution_count": 24,
     "metadata": {},
     "output_type": "execute_result"
    }
   ],
   "source": [
    "sigma2 = ((4**2)/15)+4*((2**2)/10)\n",
    "sigma2"
   ]
  },
  {
   "cell_type": "code",
   "execution_count": null,
   "metadata": {},
   "outputs": [
    {
     "data": {
      "text/plain": [
       "-0.6123724356957945"
      ]
     },
     "execution_count": 25,
     "metadata": {},
     "output_type": "execute_result"
    }
   ],
   "source": [
    "X = (xbar_2 - 2*xbar_1)/math.sqrt(sigma2)\n",
    "X"
   ]
  },
  {
   "cell_type": "code",
   "execution_count": null,
   "metadata": {},
   "outputs": [
    {
     "name": "stdout",
     "output_type": "stream",
     "text": [
      "We can't reject the hypothesis\n"
     ]
    }
   ],
   "source": [
    "if -1.96<=X<=1.96:\n",
    "    print(\"We can't reject the hypothesis\")\n",
    "else:\n",
    "    print(\"We reject the hypothesis\")"
   ]
  },
  {
   "cell_type": "markdown",
   "metadata": {},
   "source": [
    "Q6:"
   ]
  },
  {
   "cell_type": "markdown",
   "metadata": {},
   "source": []
  },
  {
   "cell_type": "code",
   "execution_count": null,
   "metadata": {},
   "outputs": [],
   "source": [
    "estim = lambda a,b : a*xbar_1 + b*xbar_2\n",
    "#For a minimum variance and with sigma_2 = 2*sigma_2 = 4 ==> b = 0.3 and a = 0.4 "
   ]
  },
  {
   "cell_type": "code",
   "execution_count": null,
   "metadata": {},
   "outputs": [
    {
     "name": "stdout",
     "output_type": "stream",
     "text": [
      "An estimation of mu1 is  3.7\n"
     ]
    }
   ],
   "source": [
    "mu1_e = estim(0.4,0.3)\n",
    "print(\"An estimation of mu1 is \",mu1_e)"
   ]
  },
  {
   "cell_type": "code",
   "execution_count": null,
   "metadata": {},
   "outputs": [
    {
     "name": "stdout",
     "output_type": "stream",
     "text": [
      "Confidence interval is 2.760 < mu1 < 5.240 \n"
     ]
    }
   ],
   "source": [
    "print(\"Confidence interval is {:.3f} < mu1 < {:.3f} \".format(mu1_e-(1.96*math.sqrt(4/10)),mu1_e+(1.96*math.sqrt(4/10))))"
   ]
  },
  {
   "cell_type": "code",
   "execution_count": null,
   "metadata": {},
   "outputs": [],
   "source": []
  }
 ],
 "metadata": {
  "kernelspec": {
   "display_name": "Python 3 (ipykernel)",
   "language": "python",
   "name": "python3"
  },
  "language_info": {
   "codemirror_mode": {
    "name": "ipython",
    "version": 3
   },
   "file_extension": ".py",
   "mimetype": "text/x-python",
   "name": "python",
   "nbconvert_exporter": "python",
   "pygments_lexer": "ipython3",
   "version": "3.10.7"
  },
  "vscode": {
   "interpreter": {
    "hash": "0911e1633bcdbb60164a4c92fb52717c1997d1e2827f44c384c59c1ea4ce59c0"
   }
  }
 },
 "nbformat": 4,
 "nbformat_minor": 2
}
